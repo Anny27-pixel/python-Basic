{
 "cells": [
  {
   "cell_type": "code",
   "execution_count": 7,
   "metadata": {},
   "outputs": [
    {
     "name": "stdout",
     "output_type": "stream",
     "text": [
      "apple\n",
      "banana\n",
      "cherry\n",
      "mango\n",
      "Litchi\n"
     ]
    }
   ],
   "source": [
    "thislist = [\"apple\", \"banana\", \"cherry\",\"mango\",\"Litchi\"]\n",
    "for i in range(len(thislist)):\n",
    "    print(thislist[i])"
   ]
  },
  {
   "cell_type": "code",
   "execution_count": 10,
   "metadata": {},
   "outputs": [
    {
     "name": "stdout",
     "output_type": "stream",
     "text": [
      "['mango', 'Litchi', 'cherry', 'banana', 'apple']\n"
     ]
    }
   ],
   "source": [
    "#sort descending\n",
    "thislist = [\"apple\", \"banana\", \"cherry\", \"mango\", \"Litchi\"]\n",
    "thislist.sort(key=str.lower, reverse=True)\n",
    "print(thislist)\n"
   ]
  },
  {
   "cell_type": "code",
   "execution_count": 11,
   "metadata": {},
   "outputs": [
    {
     "name": "stdout",
     "output_type": "stream",
     "text": [
      "['apple', 'banana', 'cherry', 'mango', 'Litchi']\n"
     ]
    }
   ],
   "source": [
    "#make a copy of a list \n",
    "thislist = [\"apple\", \"banana\", \"cherry\",\"mango\",\"Litchi\"]\n",
    "mylist = thislist.copy()\n",
    "print(mylist)"
   ]
  },
  {
   "cell_type": "code",
   "execution_count": null,
   "metadata": {},
   "outputs": [
    {
     "name": "stdout",
     "output_type": "stream",
     "text": [
      "['apple', 'blackcurrant', 'watermelon', 'mango', 'Litchi']\n"
     ]
    }
   ],
   "source": [
    "thislist = [\"apple\", \"banana\", \"cherry\", \"mango\", \"Litchi\"]\n",
    "\n",
    "# Replace \"banana\" with \"blackcurrant\"\n",
    "thislist[1] = \"blackcurrant\"\n",
    "\n",
    "# Replace \"cherry\" with \"watermelon\"\n",
    "thislist[2] = \"watermelon\"\n",
    "\n",
    "print(thislist)"
   ]
  },
  {
   "cell_type": "code",
   "execution_count": 13,
   "metadata": {},
   "outputs": [
    {
     "name": "stdout",
     "output_type": "stream",
     "text": [
      "['apple', 'orange', 'banana', 'cherry', 'mango', 'Litchi']\n"
     ]
    }
   ],
   "source": [
    "thislist = [\"apple\", \"banana\", \"cherry\", \"mango\", \"Litchi\"]\n",
    "\n",
    "# Insert a new item at the second position\n",
    "thislist.insert(1, \"orange\")\n",
    "\n",
    "print(thislist)\n"
   ]
  },
  {
   "cell_type": "code",
   "execution_count": 14,
   "metadata": {},
   "outputs": [
    {
     "name": "stdout",
     "output_type": "stream",
     "text": [
      "{'brand': 'Ford', 'model': 'Mustang', 'year': 1964, 'location': 'Dhaka'}\n"
     ]
    }
   ],
   "source": [
    "#create a dictionary\n",
    "#Dictionaries are written with curly brackets, and have keys and values\n",
    "thisdict = {\n",
    "  \"brand\": \"Ford\",\n",
    "  \"model\": \"Mustang\",\n",
    "  \"year\": 1964,\n",
    "  \"location\":\"Dhaka\"\n",
    "}\n",
    "print(thisdict)"
   ]
  },
  {
   "cell_type": "code",
   "execution_count": 15,
   "metadata": {},
   "outputs": [
    {
     "name": "stdout",
     "output_type": "stream",
     "text": [
      "{'brand': 'Ford', 'year': 1964, 'location': 'Dhaka'}\n"
     ]
    }
   ],
   "source": [
    "thisdict = {\n",
    "    \"brand\": \"Ford\",\n",
    "    \"model\": \"Mustang\",\n",
    "    \"year\": 1964,\n",
    "    \"location\": \"Dhaka\"\n",
    "}\n",
    "\n",
    "# Remove the \"model\" item\n",
    "thisdict.pop(\"model\")\n",
    "\n",
    "print(thisdict)\n"
   ]
  },
  {
   "cell_type": "code",
   "execution_count": 16,
   "metadata": {},
   "outputs": [
    {
     "name": "stdout",
     "output_type": "stream",
     "text": [
      "Ford\n",
      "Mustang\n",
      "1964\n",
      "Dhaka\n"
     ]
    }
   ],
   "source": [
    "thisdict = {\n",
    "    \"brand\": \"Ford\",\n",
    "    \"model\": \"Mustang\",\n",
    "    \"year\": 1964,\n",
    "    \"location\": \"Dhaka\"\n",
    "}\n",
    "\n",
    "# Print all values one by one\n",
    "for value in thisdict.values():\n",
    "    print(value)\n"
   ]
  },
  {
   "cell_type": "code",
   "execution_count": 17,
   "metadata": {},
   "outputs": [
    {
     "name": "stdout",
     "output_type": "stream",
     "text": [
      "Updated Dictionary: {'brand': 'Ford', 'model': 'Mustang', 'year': 1964, 'location': 'Dhaka', 'color': 'red'}\n",
      "Keys in the dictionary: ['brand', 'model', 'year', 'location', 'color']\n"
     ]
    }
   ],
   "source": [
    "thisdict = {\n",
    "    \"brand\": \"Ford\",\n",
    "    \"model\": \"Mustang\",\n",
    "    \"year\": 1964,\n",
    "    \"location\": \"Dhaka\"\n",
    "}\n",
    "\n",
    "# Add a new item\n",
    "thisdict[\"color\"] = \"red\"\n",
    "\n",
    "# Print the updated dictionary\n",
    "print(\"Updated Dictionary:\", thisdict)\n",
    "\n",
    "# Print the list of keys\n",
    "print(\"Keys in the dictionary:\", list(thisdict.keys()))\n"
   ]
  }
 ],
 "metadata": {
  "kernelspec": {
   "display_name": "Python 3",
   "language": "python",
   "name": "python3"
  },
  "language_info": {
   "codemirror_mode": {
    "name": "ipython",
    "version": 3
   },
   "file_extension": ".py",
   "mimetype": "text/x-python",
   "name": "python",
   "nbconvert_exporter": "python",
   "pygments_lexer": "ipython3",
   "version": "3.12.6"
  }
 },
 "nbformat": 4,
 "nbformat_minor": 2
}
