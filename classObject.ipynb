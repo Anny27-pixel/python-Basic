{
 "cells": [
  {
   "cell_type": "code",
   "execution_count": 10,
   "metadata": {},
   "outputs": [],
   "source": [
    "class myComplexNumber:\n",
    "    #constructor method\n",
    "    def  __init__(self, real=0,imag=0):\n",
    "        print(\"myComplexNumber constructor executing....\")\n",
    "        self.real_part = real\n",
    "        self.imag_part = imag\n",
    "    def displayComplex(self):\n",
    "            print(\"{0} + {1}j\".format(self.real_part, self.imag_part))\n"
   ]
  },
  {
   "cell_type": "code",
   "execution_count": 11,
   "metadata": {},
   "outputs": [
    {
     "name": "stdout",
     "output_type": "stream",
     "text": [
      "myComplexNumber constructor executing....\n",
      "40 + 50j\n"
     ]
    }
   ],
   "source": [
    "# Create a new object against myComplexNumber class\n",
    "cmplx1 = myComplexNumber(40,50)\n",
    "#calling displayComplex class\n",
    "cmplx1.displayComplex()"
   ]
  },
  {
   "cell_type": "code",
   "execution_count": 15,
   "metadata": {},
   "outputs": [
    {
     "name": "stdout",
     "output_type": "stream",
     "text": [
      "myComplexNumber constructor executing....\n",
      "60 70 80\n",
      "60 + 70j\n"
     ]
    }
   ],
   "source": [
    "#create another object against myComplexNumber class\n",
    "#and create a new attribute named 'new_attribute'\n",
    "cmplx2 = myComplexNumber(60,70)\n",
    "cmplx2.new_attribute = 80\n",
    "print(cmplx2.real_part,cmplx2.imag_part,cmplx2.new_attribute)\n",
    "cmplx2.displayComplex()"
   ]
  },
  {
   "cell_type": "code",
   "execution_count": 16,
   "metadata": {},
   "outputs": [
    {
     "ename": "AttributeError",
     "evalue": "'myComplexNumber' object has no attribute 'new_attribute'",
     "output_type": "error",
     "traceback": [
      "\u001b[1;31m---------------------------------------------------------------------------\u001b[0m",
      "\u001b[1;31mAttributeError\u001b[0m                            Traceback (most recent call last)",
      "Cell \u001b[1;32mIn[16], line 3\u001b[0m\n\u001b[0;32m      1\u001b[0m \u001b[38;5;66;03m#but cmplx1 object does't have new_attribute\u001b[39;00m\n\u001b[0;32m      2\u001b[0m \u001b[38;5;66;03m#AttributeError: myComplexNumber class does't have attribute 'new_attribute'\u001b[39;00m\n\u001b[1;32m----> 3\u001b[0m \u001b[43mcmplx1\u001b[49m\u001b[38;5;241;43m.\u001b[39;49m\u001b[43mnew_attribute\u001b[49m\n",
      "\u001b[1;31mAttributeError\u001b[0m: 'myComplexNumber' object has no attribute 'new_attribute'"
     ]
    }
   ],
   "source": [
    "#but cmplx1 object does't have new_attribute\n",
    "#AttributeError: myComplexNumber class does't have attribute 'new_attribute'\n",
    "cmplx1.new_attribute"
   ]
  },
  {
   "cell_type": "code",
   "execution_count": 17,
   "metadata": {},
   "outputs": [
    {
     "name": "stdout",
     "output_type": "stream",
     "text": [
      "<__main__.myComplexNumber object at 0x00000263BFD6B020>\n"
     ]
    }
   ],
   "source": [
    "#deleting object attribute and the object\n",
    "print(cmplx1)\n",
    "del cmplx1.real_part\n",
    "del cmplx1"
   ]
  },
  {
   "cell_type": "code",
   "execution_count": 18,
   "metadata": {},
   "outputs": [
    {
     "ename": "NameError",
     "evalue": "name 'cmplx1' is not defined",
     "output_type": "error",
     "traceback": [
      "\u001b[1;31m---------------------------------------------------------------------------\u001b[0m",
      "\u001b[1;31mNameError\u001b[0m                                 Traceback (most recent call last)",
      "Cell \u001b[1;32mIn[18], line 1\u001b[0m\n\u001b[1;32m----> 1\u001b[0m \u001b[38;5;28mprint\u001b[39m(\u001b[43mcmplx1\u001b[49m)\n",
      "\u001b[1;31mNameError\u001b[0m: name 'cmplx1' is not defined"
     ]
    }
   ],
   "source": [
    "print(cmplx1)"
   ]
  }
 ],
 "metadata": {
  "kernelspec": {
   "display_name": "Python 3",
   "language": "python",
   "name": "python3"
  },
  "language_info": {
   "codemirror_mode": {
    "name": "ipython",
    "version": 3
   },
   "file_extension": ".py",
   "mimetype": "text/x-python",
   "name": "python",
   "nbconvert_exporter": "python",
   "pygments_lexer": "ipython3",
   "version": "3.12.6"
  }
 },
 "nbformat": 4,
 "nbformat_minor": 2
}
